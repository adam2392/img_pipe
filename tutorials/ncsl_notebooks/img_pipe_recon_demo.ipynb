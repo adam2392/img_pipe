{
 "cells": [
  {
   "cell_type": "code",
   "execution_count": 1,
   "metadata": {
    "collapsed": true
   },
   "outputs": [],
   "source": [
    "import os\n",
    "import sys; sys.path.append(\"../../../\")\n",
    "from img_pipe.img_pipe import img_pipe\n",
    "from importlib import reload\n",
    "reload(img_pipe)\n",
    "import numpy as np\n",
    "import scipy.io\n",
    "%matplotlib inline"
   ]
  },
  {
   "cell_type": "markdown",
   "metadata": {},
   "source": [
    "# Img_pipe Recon Demo\n",
    "\n",
    "This tutorial will walk through how to run a recon using the img_pipe package. This includes MRI alignment, CT registration, electrode localization, anatomical labeling, and nonlinear warping. "
   ]
  },
  {
   "cell_type": "markdown",
   "metadata": {},
   "source": [
    "### Set-up\n",
    "\n",
    "In your SUBJECTS_DIR (where you want to place your subjects imaging data), you should make a new directory (with your subject name, i.e. 'EC86'). Then, create subdirectories __*acpc/*__ and __*CT/*__. Place your niftii format T1 MRI file (name it *T1_orig.nii*) in the __*acpc/*__ folder and the CT niftii file (name it *CT.nii*) in __*CT/*__. Your directory structure should now look like this: \n",
    "\n",
    "SUBJECTS_DIR/\n",
    "    * Subj_name/\n",
    "        * acpc/\n",
    "            *T1_orig.nii\n",
    "        * CT/\n",
    "            * CT.nii"
   ]
  },
  {
   "cell_type": "markdown",
   "metadata": {},
   "source": [
    "### 1. Alignment of T1 scan to AC-PC axis\n",
    "\n",
    "*\tAlignment of the T1 scan to the anterior commissure-posterior commissure axis is performed in Freeview (Figure 3). Open Freeview and load your unaligned T1 scan in the Volumes tab. To aid in axis alignment, change the cursor style “long” in Preferences  Cursor  style “Long”. You can also change the color if you wish.\n",
    "*\tTo adjust the rotation and translation of the image, select Tools  Transform Volume. Adjust the roll (with Y (P-A)) and yaw (with Z (I-S)) as necessary to make sure the head is aligned.  Check the axial view to make sure the eyes show equally in the same slice (see Fig 3A vs. 3B, second panel for unaligned and aligned examples).  Make sure the midsagittal line is vertical in the axial view (see Fig 3A vs. 3B, first and third panels) and in the coronal view.  Choose Sample method “Cubic”.\n",
    "*\tSelect the anterior commissure and adjust the pitch of the head so that it is in line with the posterior commissure on the horizontal axis (Fig 3A-B, last panel).\n",
    "*\tFinally, move to the (0, 0, 0) RAS coordinate (not TkReg RAS, just RAS).  In the Transform Volume tool, translate the image until the cursor is at the anterior commissure.   \n",
    "*\tOnce you are satisfied that the brain is in a good orientation, click “Save Reg…” and save the transformation matrix in the acpc directory as T1_reorient.lta. Then, click “Save as…” and save the reoriented T1 file as T1.nii in the acpc directory (e.g. /usr/local/freesurfer/subjects/EC1/acpc). \n",
    "\n",
    "#### Include image here "
   ]
  },
  {
   "cell_type": "markdown",
   "metadata": {},
   "source": [
    "### 2. Create the freeCoG instance for the patient and run preparatory steps"
   ]
  },
  {
   "cell_type": "code",
   "execution_count": 44,
   "metadata": {
    "collapsed": true
   },
   "outputs": [],
   "source": [
    "subj_dir = '/home/adam2392/hdd/data/neuroimaging/freesurfer_output/'\n",
    "subj_dir = \"/Users/adam2392/Dropbox/phd_research/data/neuroimaging_results/freesurfer_output/\"\n",
    "\n",
    "fs_dir = '/opt/freesurfer/'\n",
    "fs_dir = \"/Users/adam2392/Documents/freesurfer/\"\n",
    "\n",
    "\n",
    "patient = img_pipe.freeCoG(subj='umf005',\n",
    "                           hem='rh',\n",
    "                           subj_dir=subj_dir,\n",
    "                           fs_dir=fs_dir)\n",
    "# you can also specify SUBJECTS_DIR and FREESURFER_HOME in your .bash_profile instead of specifying \n",
    "# in the *subj_dir* and *fs_dir* arguments."
   ]
  },
  {
   "cell_type": "markdown",
   "metadata": {},
   "source": [
    "#### 2a) **`prep_recon()`**\n",
    "**`prep_recon()`** will set up the directory structure needed before running **`get_recon()`**"
   ]
  },
  {
   "cell_type": "code",
   "execution_count": 45,
   "metadata": {
    "collapsed": false
   },
   "outputs": [],
   "source": [
    "patient.prep_recon()"
   ]
  },
  {
   "cell_type": "markdown",
   "metadata": {},
   "source": [
    "#### 2b) **`get_recon()`** \n",
    "**`get_recon()`** will run the Freesurfer command `recon-all`. This will take on the order of hours, depending on your machine's CPU, GPU, and whether you use parallelization."
   ]
  },
  {
   "cell_type": "code",
   "execution_count": 14,
   "metadata": {
    "collapsed": false
   },
   "outputs": [],
   "source": [
    "patient.get_recon()"
   ]
  },
  {
   "cell_type": "markdown",
   "metadata": {},
   "source": [
    "#### 2c) check pial surfaces against the MRI with **`check_pial()`**\n",
    "Now, check that the pial surfaces actually correspond to the MRI."
   ]
  },
  {
   "cell_type": "code",
   "execution_count": 13,
   "metadata": {
    "collapsed": true
   },
   "outputs": [],
   "source": [
    "#this will open a freesurfer window with the brain MRI and pial surfaces loaded\n",
    "patient.check_pial()"
   ]
  },
  {
   "cell_type": "markdown",
   "metadata": {},
   "source": [
    "#### 2d) create the meshes\n",
    "\n",
    "Create the triangle-vertex mesh in .mat format with **`convert_fsmesh2mlab()`**. This will save them out to **__Meshes/EC108_lh_pial.mat__** and **__Meshes/EC108_rh_pial.mat__**. To create subcortical meshes, run **`get_subcort()`**, subcortical meshes will be in **__Meshes/subcortical/__**."
   ]
  },
  {
   "cell_type": "code",
   "execution_count": 4,
   "metadata": {
    "collapsed": false
   },
   "outputs": [
    {
     "name": "stdout",
     "output_type": "stream",
     "text": [
      "Making Meshes Directory\n",
      "Making lh mesh\n",
      "Making rh mesh\n",
      "::: Tesselating freesurfer subcortical segmentations from aseg using aseg2srf... :::\n",
      "/home/adam2392/Documents/neuroimg_pipeline/img_pipe/img_pipe/SupplementalScripts/aseg2srf.sh\n",
      "Creating directory /home/adam2392/hdd/data/neuroimaging/freesurfer_output/umf004/Meshes/subcortical\n",
      "::: Converting all ascii segmentations to matlab tri-vert :::\n"
     ]
    }
   ],
   "source": [
    "patient.convert_fsmesh2mlab()\n",
    "patient.get_subcort()"
   ]
  },
  {
   "cell_type": "markdown",
   "metadata": {},
   "source": [
    "#### 2e) CT Registration\n",
    "\n",
    "Register the **__CT/CT.nii__** file to **__mri/orig.nii__** file; the registered CT will be saved as **__CT/rCT.nii__**.\n",
    "\n",
    "Note, that the coregistred CT can just be copy and pasted over from our flirt run. This coregistratino using freesurfer is not that great."
   ]
  },
  {
   "cell_type": "code",
   "execution_count": 27,
   "metadata": {
    "collapsed": false
   },
   "outputs": [
    {
     "name": "stdout",
     "output_type": "stream",
     "text": [
      "Computing registration from /home/adam2392/hdd/data/neuroimaging/freesurfer_output/umf001/CT/CT.nii to /home/adam2392/hdd/data/neuroimaging/freesurfer_output/umf001/mri/T1.nii\n",
      "Initial guess...\n",
      "translation : [0. 0. 0.]\n",
      "rotation    : [0. 0. 0.]\n",
      "\n",
      "Optimizing using fmin_powell\n",
      "translation : [1. 1. 1.]\n",
      "rotation    : [0.01 0.01 0.01]\n",
      "\n",
      "nmi = 2.0\n",
      "\n",
      "Optimization terminated successfully.\n",
      "         Current function value: -2.000000\n",
      "         Iterations: 1\n",
      "         Function evaluations: 25\n",
      "Saving registered CT image as /home/adam2392/hdd/data/neuroimaging/freesurfer_output/umf001/CT/rCT.nii\n"
     ]
    },
    {
     "name": "stderr",
     "output_type": "stream",
     "text": [
      "/home/adam2392/.local/lib/python3.6/site-packages/nipy/io/files.py:145: FutureWarning: Default `strict` currently False; this will change to True in a future version of nipy\n",
      "  ni_img = nipy2nifti(img, data_dtype = io_dtype)\n"
     ]
    }
   ],
   "source": [
    "# patient.reg_img('CT.nii','T1.nii')"
   ]
  },
  {
   "cell_type": "markdown",
   "metadata": {},
   "source": [
    "### 3. Electrode localization, anatomical labeling, and nonlinear warping"
   ]
  },
  {
   "cell_type": "markdown",
   "metadata": {},
   "source": [
    "#### 3a) Marking the electrodes on the CT\n",
    "\n",
    "Example of identification of electrode coordinates using electrode picker, opened with **`mark_electrodes()`**. \n",
    "\n",
    "<img src='files/ElectrodeMarker.png' style='width:700px;'>\n",
    "\n",
    "**(A)** Demonstrates the process of picking the coordinate for the most posterior inferior grid corner. On the left, the GUI is shown with the electrode selected. The pial surface, rCT, and skull stripped MRI are displayed. The upper left shows the electrode selected in the sagittal view. The upper right shows the coronal view. The bottom right shows an axial view. The lower left displays the intensity projection map of the CT, which is useful for visualizing the entire grid. To save the coordinate, press ‘n’ to name a new device. With the center of the electrode artifact localized by the crosshairs in the axial, sagittal, and coronal views, press ‘e’ to add a point. The coordinates are automatically saved to the ‘elecs’ folder. This file can be loaded and the saved points can be plotted on the 3D surface mesh in MATLAB. This plot can be seen in the right panel. If the coordinates appear buried in the Mesh due to post operative brain shift, additional steps can be taken to project the electrode to the surface. \n",
    "\n",
    "**(B)** Example of identification of an electrode that is part of a subtemporal strip. The strip can be seen in the rCT.nii intensity projection map in the lower right panel. The coordinate is recorded from the center of the electrode artifact, seen in sagittal, coronal, and axial views. This coordinate can then be visualized on the 3D surface mesh in MATLAB, seen in the right panel.\n",
    "\n",
    "### Note:\n",
    "You need to name the hd_grid with <name>_corners.mat, which will then be able to be interpreted by patient.interp_grid\n"
   ]
  },
  {
   "cell_type": "code",
   "execution_count": 28,
   "metadata": {
    "collapsed": false
   },
   "outputs": [
    {
     "name": "stdout",
     "output_type": "stream",
     "text": [
      "Launching electrode picker\n"
     ]
    }
   ],
   "source": [
    "#This will open a GUI where you can click to mark the electrodes on the registered CT \n",
    "patient.mark_electrodes()"
   ]
  },
  {
   "cell_type": "markdown",
   "metadata": {},
   "source": [
    "#### 2f) Interpolate electrode grids\n",
    "\n",
    "If you marked any grid corners, you should interpolate then project the electrodes."
   ]
  },
  {
   "cell_type": "code",
   "execution_count": 28,
   "metadata": {
    "collapsed": false
   },
   "outputs": [
    {
     "name": "stdout",
     "output_type": "stream",
     "text": [
      "Help on method interp_grid in module img_pipe.img_pipe.img_pipe:\n",
      "\n",
      "interp_grid(nrows=16, ncols=16, grid_basename='hd_grid') method of img_pipe.img_pipe.img_pipe.freeCoG instance\n",
      "    Interpolates corners for an electrode grid\n",
      "    given the four corners (in order, 1, 16, 241, 256), or for\n",
      "    32 channel grid, 1, 8, 25, 32.\n",
      "    \n",
      "    Parameters\n",
      "    ----------\n",
      "    nrows : int\n",
      "        Number of rows in the grid\n",
      "    ncols : int\n",
      "        Number of columns in the grid\n",
      "    grid_basename : str\n",
      "        The base name of the grid (e.g. 'hd_grid' if you have a corners file\n",
      "        called hd_grid_corners.mat)\n",
      "\n"
     ]
    }
   ],
   "source": [
    "help(patient.interp_grid)\n",
    "patient.interp_grid(grid_basename='g',\n",
    "                    ncols=8, nrows=6\n",
    "                   )"
   ]
  },
  {
   "cell_type": "markdown",
   "metadata": {},
   "source": [
    "#### 2g) Project electrodes that are buried under the cortical surface\n",
    "\n",
    "This can either work on interpolated grids or individual electrodes. For interpolated grids, you have the option of using the mean normal vector as the projection direction (see figure). For individual electrodes, you can specify the projection direction if you set **`use_mean_normal=False`**. You can also select whether to use the dural surface or pial surface as the surface to project to.\n",
    "\n",
    "<img src='files/ElectrodeProjection.png' style=\"width: 650px;\">\n",
    "\n",
    "**A.**  The grid’s corner electrodes are manually located. We interpolate the locations of the rest of the grid electrodes using these corner coordinates, giving us the electrode grid shown in red. The green arrows are the four normal vectors calculated from the corners, and the black arrow is the mean of those normal vectors and will act as our projection direction. \n",
    "\n",
    "**B.** Projection of the interpolated grid (red) to the convex hull of the pial surface (blue) using the mean normal vector (black arrow). The final projected electrode grid is shown in blue.\n"
   ]
  },
  {
   "cell_type": "code",
   "execution_count": 6,
   "metadata": {
    "collapsed": false
   },
   "outputs": [
    {
     "ename": "ModuleNotFoundError",
     "evalue": "No module named 'mcubes'",
     "output_type": "error",
     "traceback": [
      "\u001b[0;31m---------------------------------------------------------------------------\u001b[0m",
      "\u001b[0;31mModuleNotFoundError\u001b[0m                       Traceback (most recent call last)",
      "\u001b[0;32m<ipython-input-6-43517437cee6>\u001b[0m in \u001b[0;36m<module>\u001b[0;34m\u001b[0m\n\u001b[1;32m      1\u001b[0m \u001b[0;31m# help(patient.project_electrodes)\u001b[0m\u001b[0;34m\u001b[0m\u001b[0;34m\u001b[0m\u001b[0;34m\u001b[0m\u001b[0m\n\u001b[0;32m----> 2\u001b[0;31m \u001b[0;32mimport\u001b[0m \u001b[0mmcubes\u001b[0m\u001b[0;34m\u001b[0m\u001b[0;34m\u001b[0m\u001b[0m\n\u001b[0m",
      "\u001b[0;31mModuleNotFoundError\u001b[0m: No module named 'mcubes'"
     ]
    }
   ],
   "source": [
    "# help(patient.project_electrodes)"
   ]
  },
  {
   "cell_type": "code",
   "execution_count": 46,
   "metadata": {},
   "outputs": [
    {
     "name": "stdout",
     "output_type": "stream",
     "text": [
      "Projection Params: \n",
      "\t Grid Name: rabt.mat \n",
      "\t Use Mean Normal: True \n",
      "\t                Surface Type: dural \n",
      "\t Number of Smoothing Iterations (if using dural): 30\n",
      "::: Loading Mesh data :::\n",
      "/Users/adam2392/Dropbox/phd_research/data/neuroimaging_results/freesurfer_output/umf005/Meshes/rh_dural_trivert.mat\n",
      "::: Projecting electrodes to mesh :::\n",
      "rh\n",
      "::: Done :::\n",
      "Projection Params: \n",
      "\t Grid Name: rlat.mat \n",
      "\t Use Mean Normal: True \n",
      "\t                Surface Type: dural \n",
      "\t Number of Smoothing Iterations (if using dural): 30\n",
      "::: Loading Mesh data :::\n",
      "/Users/adam2392/Dropbox/phd_research/data/neuroimaging_results/freesurfer_output/umf005/Meshes/rh_dural_trivert.mat\n",
      "::: Projecting electrodes to mesh :::\n",
      "rh\n",
      "::: Done :::\n",
      "Projection Params: \n",
      "\t Grid Name: rpbt.mat \n",
      "\t Use Mean Normal: True \n",
      "\t                Surface Type: dural \n",
      "\t Number of Smoothing Iterations (if using dural): 30\n",
      "::: Loading Mesh data :::\n",
      "/Users/adam2392/Dropbox/phd_research/data/neuroimaging_results/freesurfer_output/umf005/Meshes/rh_dural_trivert.mat\n",
      "::: Projecting electrodes to mesh :::\n",
      "rh\n",
      "::: Done :::\n"
     ]
    }
   ],
   "source": [
    "prefixes = [\n",
    "#     'labt',\n",
    "#     'llat',\n",
    "#     'lpbt',\n",
    "    'rabt',\n",
    "    'rlat',\n",
    "    'rpbt'\n",
    "]\n",
    "\n",
    "for prefix in prefixes:\n",
    "    patient.project_electrodes(elecfile_prefix=prefix, dilate=10000., \n",
    "                           convex_hull=True, grid=False)"
   ]
  },
  {
   "cell_type": "code",
   "execution_count": 10,
   "metadata": {
    "collapsed": false
   },
   "outputs": [
    {
     "name": "stdout",
     "output_type": "stream",
     "text": [
      "Projection Params: \n",
      "\t Grid Name: g.mat \n",
      "\t Use Mean Normal: True \n",
      "\t                Surface Type: dural \n",
      "\t Number of Smoothing Iterations (if using dural): 30\n",
      "::: Loading Mesh data :::\n",
      "/Users/adam2392/Dropbox/phd_research/data/neuroimaging_results/freesurfer_output/umf003/Meshes/lh_dural_trivert.mat\n",
      "::: Projecting electrodes to mesh :::\n",
      "lh\n",
      "::: Done :::\n"
     ]
    }
   ],
   "source": [
    "patient.project_electrodes(elecfile_prefix='g', dilate=1000., convex_hull=True, grid=False)"
   ]
  },
  {
   "cell_type": "markdown",
   "metadata": {},
   "source": [
    "#### Creating the **`*_elecs_all.mat`** file\n",
    "\n",
    "Now we will create our **`'*_elecs_all.mat'`** montage file. This file is a `.mat` file with two structs: **`anatomy`**, which contains information about the montage labels, device origin, and anatomical labels; and **`elecmatrix`**, which contains the electrode coordinate matrix.\n",
    "\n",
    "**`anatomy`** is structured as a __num_electrodes x 4__ matrix. The first column is the short name abbreviation of the electrode, the second column is the long name, the third column is the electrode type (i.e. depth, strip, or grid).\n",
    "\n",
    "**`make_elecs_all()`** is an interactive function that creates the **`'*_elecs_all.mat'`** file."
   ]
  },
  {
   "cell_type": "code",
   "execution_count": 47,
   "metadata": {},
   "outputs": [
    {
     "name": "stdout",
     "output_type": "stream",
     "text": [
      "umf005_elecs_all\n"
     ]
    }
   ],
   "source": [
    "# (short_name, long_name, elec_type, filename)\n",
    "# umf001\n",
    "# elecs_meta_input = [\n",
    "#     ('btm', 'basal temporal medial', 'strip', 'btm.mat'),\n",
    "#     ('btp', 'basal temporal pole', 'strip', 'btp.mat'),\n",
    "#     ('c', 'grid64', 'grid', 'c.mat'),\n",
    "# ]\n",
    "\n",
    "# # umf 003\n",
    "# elecs_meta_input = [\n",
    "#     ('bo', 'basal occipital', 'strip', 'bo.mat'),\n",
    "#     ('ph', 'hippocampus', 'depth', 'ph.mat'),\n",
    "#     ('ah', 'anterior hippocampus', 'depth', 'ah.mat'),\n",
    "#     ('g', 'grid48', 'grid', 'g.mat'),\n",
    "# ]\n",
    "\n",
    "# umf004\n",
    "# elecs_meta_input = [\n",
    "#     ('ltp', 'anterior temporal pole', 'depth', 'ltp.mat'),\n",
    "#     ('la', 'right amygdala', 'depth', 'la.mat'),\n",
    "#     ('lofs', 'orbitofrontal', 'depth', 'lofs.mat'),\n",
    "#     ('lph', 'parahippocampal gyrus', 'depth', 'lph.mat'),\n",
    "#     ('lh', 'hippocampus', 'depth', 'lh.mat'),\n",
    "#     ('lmcsm', 'supplementary motor area', 'depth', 'lmcsm.mat'),\n",
    "#     ('ra', 'right amygdala', 'depth', 'ra.mat'),\n",
    "# ]\n",
    "\n",
    "# umf005\n",
    "elecs_meta_input = [\n",
    "    ('lpbt', 'posterior basal temporal', 'strip', 'lpbt.mat'),\n",
    "    ('labt', 'anterior basal temporal', 'strip', 'labt.mat'),\n",
    "    ('llat', 'lateral temporal', 'strip', 'llat.mat'),\n",
    "    ('rpbt', 'posterior basal temporal', 'strip', 'rpbt.mat'),\n",
    "    ('rabt', 'anterior basal temporal', 'strip', 'rabt.mat'),\n",
    "    ('rlat', 'lateral temporal', 'strip', 'rlat.mat'),\n",
    "]\n",
    "\n",
    "\n",
    "\n",
    "outfile = 'umf005_elecs_all'\n",
    "\n",
    "print(outfile)"
   ]
  },
  {
   "cell_type": "code",
   "execution_count": 48,
   "metadata": {
    "collapsed": false
   },
   "outputs": [],
   "source": [
    "#creates the TDT_elecs_all.mat file \n",
    "patient.make_elecs_all(elecs_meta_input, outfile)"
   ]
  },
  {
   "cell_type": "code",
   "execution_count": 49,
   "metadata": {
    "collapsed": false
   },
   "outputs": [
    {
     "name": "stdout",
     "output_type": "stream",
     "text": [
      "[[array(['lpbt1'], dtype='<U5')\n",
      "  array(['posterior basal temporal1'], dtype='<U25')\n",
      "  array(['strip'], dtype='<U5')]\n",
      " [array(['lpbt2'], dtype='<U5')\n",
      "  array(['posterior basal temporal2'], dtype='<U25')\n",
      "  array(['strip'], dtype='<U5')]\n",
      " [array(['lpbt3'], dtype='<U5')\n",
      "  array(['posterior basal temporal3'], dtype='<U25')\n",
      "  array(['strip'], dtype='<U5')]\n",
      " [array(['lpbt4'], dtype='<U5')\n",
      "  array(['posterior basal temporal4'], dtype='<U25')\n",
      "  array(['strip'], dtype='<U5')]\n",
      " [array(['labt1'], dtype='<U5')\n",
      "  array(['anterior basal temporal1'], dtype='<U24')\n",
      "  array(['strip'], dtype='<U5')]]\n",
      "(28, 3)\n"
     ]
    }
   ],
   "source": [
    "print(scipy.io.loadmat(os.path.join(patient.elecs_dir, f'{outfile}.mat'))['eleclabels'][0:5,:])\n",
    "print(scipy.io.loadmat(os.path.join(patient.elecs_dir, f'{outfile}.mat'))['elecmatrix'].shape)"
   ]
  },
  {
   "cell_type": "code",
   "execution_count": 50,
   "metadata": {
    "collapsed": false
   },
   "outputs": [
    {
     "name": "stdout",
     "output_type": "stream",
     "text": [
      "/Users/adam2392/Dropbox/phd_research/data/neuroimaging_results/freesurfer_output/\n",
      "Creating labels from the freesurfer annotation file for use in automated electrode labeling\n",
      "Loading electrode matrix\n",
      "Loading label rostralmiddlefrontal\n",
      "Loading label bankssts\n",
      "Loading label lateralorbitofrontal\n",
      "Loading label inferiortemporal\n",
      "Loading label posteriorcingulate\n",
      "Loading label parsopercularis\n",
      "Loading label parsorbitalis\n",
      "Loading label middletemporal\n",
      "Loading label inferiorparietal\n",
      "Loading label supramarginal\n",
      "Loading label postcentral\n",
      "Loading label lateraloccipital\n",
      "Loading label pericalcarine\n",
      "Loading label rostralanteriorcingulate\n",
      "Loading label fusiform\n",
      "Loading label insula\n",
      "Loading label lingual\n",
      "Loading label transversetemporal\n",
      "Loading label caudalanteriorcingulate\n",
      "Loading label parahippocampal\n",
      "Loading label caudalmiddlefrontal\n",
      "Loading label superiorfrontal\n",
      "Loading label cuneus\n",
      "Loading label isthmuscingulate\n",
      "Loading label precentral\n",
      "Loading label medialorbitofrontal\n",
      "Loading label temporalpole\n",
      "Loading label frontalpole\n",
      "Loading label precuneus\n",
      "Loading label parstriangularis\n",
      "Loading label paracentral\n",
      "Loading label entorhinal\n",
      "Loading label superiorparietal\n",
      "Loading label superiortemporal\n",
      "Finding nearest mesh vertex for each electrode\n",
      "Saving electrode labels for surface electrodes to umf005_elecs_all\n",
      "Saving electrode labels to umf005_elecs_all\n"
     ]
    },
    {
     "data": {
      "text/plain": [
       "array([['lpbt1', 'posterior basal temporal1', 'strip', 'Unknown'],\n",
       "       ['lpbt2', 'posterior basal temporal2', 'strip', 'Unknown'],\n",
       "       ['lpbt3', 'posterior basal temporal3', 'strip', 'Unknown'],\n",
       "       ['lpbt4', 'posterior basal temporal4', 'strip', 'Unknown'],\n",
       "       ['labt1', 'anterior basal temporal1', 'strip', 'Unknown'],\n",
       "       ['labt2', 'anterior basal temporal2', 'strip', 'Unknown'],\n",
       "       ['labt3', 'anterior basal temporal3', 'strip',\n",
       "        'medialorbitofrontal'],\n",
       "       ['labt4', 'anterior basal temporal4', 'strip',\n",
       "        'medialorbitofrontal'],\n",
       "       ['llat1', 'lateral temporal1', 'strip', 'medialorbitofrontal'],\n",
       "       ['llat2', 'lateral temporal2', 'strip', 'medialorbitofrontal'],\n",
       "       ['llat3', 'lateral temporal3', 'strip', 'medialorbitofrontal'],\n",
       "       ['llat4', 'lateral temporal4', 'strip', 'medialorbitofrontal'],\n",
       "       ['llat5', 'lateral temporal5', 'strip', 'medialorbitofrontal'],\n",
       "       ['llat6', 'lateral temporal6', 'strip', 'Unknown'],\n",
       "       ['rpbt1', 'posterior basal temporal1', 'strip', 'middletemporal'],\n",
       "       ['rpbt2', 'posterior basal temporal2', 'strip',\n",
       "        'inferiortemporal'],\n",
       "       ['rpbt3', 'posterior basal temporal3', 'strip',\n",
       "        'inferiortemporal'],\n",
       "       ['rpbt4', 'posterior basal temporal4', 'strip', 'middletemporal'],\n",
       "       ['rabt1', 'anterior basal temporal1', 'strip', 'entorhinal'],\n",
       "       ['rabt2', 'anterior basal temporal2', 'strip', 'middletemporal'],\n",
       "       ['rabt3', 'anterior basal temporal3', 'strip', 'middletemporal'],\n",
       "       ['rabt4', 'anterior basal temporal4', 'strip', 'middletemporal'],\n",
       "       ['rlat1', 'lateral temporal1', 'strip', 'parsorbitalis'],\n",
       "       ['rlat2', 'lateral temporal2', 'strip', 'parsorbitalis'],\n",
       "       ['rlat3', 'lateral temporal3', 'strip', 'parsorbitalis'],\n",
       "       ['rlat4', 'lateral temporal4', 'strip', 'parsorbitalis'],\n",
       "       ['rlat5', 'lateral temporal5', 'strip', 'parsorbitalis'],\n",
       "       ['rlat6', 'lateral temporal6', 'strip', 'superiortemporal']],\n",
       "      dtype=object)"
      ]
     },
     "execution_count": 50,
     "metadata": {},
     "output_type": "execute_result"
    }
   ],
   "source": [
    "#labels the electrodes and saves them to the 'anatomy' struct of the *_elecs_all.mat file 'desikan-killiany'\n",
    "patient.label_elecs(elecfile_prefix=outfile, atlas_surf='destrieux', atlas_depth='destrieux')"
   ]
  },
  {
   "cell_type": "code",
   "execution_count": 54,
   "metadata": {
    "collapsed": false
   },
   "outputs": [
    {
     "name": "stdout",
     "output_type": "stream",
     "text": [
      "Using cvs_avg35_inMNI152 as the template for warps\n",
      "::: Computing Non-linear warping from patient native T1 to fs CVS MNI152 :::\n",
      "cvsWarp COMPUTED\n",
      ":::: Computing RAS2Vox and saving umf003_elecs_all txt file ::::\n",
      ":::: Applying Non-linear warping ::::\n",
      ":::: Computing Vox2RAS and saving umf003_elecs_all_warped mat file ::::\n"
     ]
    },
    {
     "ename": "OSError",
     "evalue": "/Users/adam2392/Dropbox/phd_research/data/neuroimaging_results/freesurfer_output/umf003/elecs/umf003_elecs_all_nearest_warped.txt not found.",
     "output_type": "error",
     "traceback": [
      "\u001b[0;31m---------------------------------------------------------------------------\u001b[0m",
      "\u001b[0;31mOSError\u001b[0m                                   Traceback (most recent call last)",
      "\u001b[0;32m<ipython-input-54-e13da809f24d>\u001b[0m in \u001b[0;36m<module>\u001b[0;34m\u001b[0m\n\u001b[0;32m----> 1\u001b[0;31m \u001b[0mpatient\u001b[0m\u001b[0;34m.\u001b[0m\u001b[0mwarp_all\u001b[0m\u001b[0;34m(\u001b[0m\u001b[0melecfile_prefix\u001b[0m\u001b[0;34m=\u001b[0m\u001b[0moutfile\u001b[0m\u001b[0;34m)\u001b[0m\u001b[0;34m\u001b[0m\u001b[0;34m\u001b[0m\u001b[0m\n\u001b[0m",
      "\u001b[0;32m~/Documents/neuroimg_pipeline/img_pipe/img_pipe/img_pipe.py\u001b[0m in \u001b[0;36mwarp_all\u001b[0;34m(self, elecfile_prefix, warp_depths, warp_surface, template)\u001b[0m\n\u001b[1;32m   1375\u001b[0m                                  'combined_to' + template + '_elreg_afteraseg-norm.tm3d')))\n\u001b[1;32m   1376\u001b[0m             \u001b[0;32mif\u001b[0m \u001b[0;32mnot\u001b[0m \u001b[0mos\u001b[0m\u001b[0;34m.\u001b[0m\u001b[0mpath\u001b[0m\u001b[0;34m.\u001b[0m\u001b[0misfile\u001b[0m\u001b[0;34m(\u001b[0m\u001b[0melecfile_nearest_warped\u001b[0m\u001b[0;34m)\u001b[0m\u001b[0;34m:\u001b[0m\u001b[0;34m\u001b[0m\u001b[0;34m\u001b[0m\u001b[0m\n\u001b[0;32m-> 1377\u001b[0;31m                 \u001b[0mself\u001b[0m\u001b[0;34m.\u001b[0m\u001b[0mapply_cvsWarp\u001b[0m\u001b[0;34m(\u001b[0m\u001b[0melecfile_prefix\u001b[0m\u001b[0;34m,\u001b[0m \u001b[0mtemplate\u001b[0m\u001b[0;34m)\u001b[0m\u001b[0;34m\u001b[0m\u001b[0;34m\u001b[0m\u001b[0m\n\u001b[0m\u001b[1;32m   1378\u001b[0m             \u001b[0;32melse\u001b[0m\u001b[0;34m:\u001b[0m\u001b[0;34m\u001b[0m\u001b[0;34m\u001b[0m\u001b[0m\n\u001b[1;32m   1379\u001b[0m                 print(\"Depth warping has already been applied to the depth electrodes of %s and are in %s\" \\\n",
      "\u001b[0;32m~/Documents/neuroimg_pipeline/img_pipe/img_pipe/img_pipe.py\u001b[0m in \u001b[0;36mapply_cvsWarp\u001b[0;34m(self, elecfile_prefix, template_brain)\u001b[0m\n\u001b[1;32m   1509\u001b[0m \u001b[0;34m\u001b[0m\u001b[0m\n\u001b[1;32m   1510\u001b[0m         \u001b[0mprint\u001b[0m\u001b[0;34m(\u001b[0m\u001b[0;34m':::: Computing Vox2RAS and saving %s_warped mat file ::::'\u001b[0m \u001b[0;34m%\u001b[0m \u001b[0;34m(\u001b[0m\u001b[0melecfile_prefix\u001b[0m\u001b[0;34m)\u001b[0m\u001b[0;34m)\u001b[0m\u001b[0;34m\u001b[0m\u001b[0;34m\u001b[0m\u001b[0m\n\u001b[0;32m-> 1511\u001b[0;31m         \u001b[0melec\u001b[0m \u001b[0;34m=\u001b[0m \u001b[0mnp\u001b[0m\u001b[0;34m.\u001b[0m\u001b[0mloadtxt\u001b[0m\u001b[0;34m(\u001b[0m\u001b[0mnearest_warped_file\u001b[0m\u001b[0;34m)\u001b[0m\u001b[0;34m\u001b[0m\u001b[0;34m\u001b[0m\u001b[0m\n\u001b[0m\u001b[1;32m   1512\u001b[0m \u001b[0;34m\u001b[0m\u001b[0m\n\u001b[1;32m   1513\u001b[0m         \u001b[0melec\u001b[0m \u001b[0;34m=\u001b[0m \u001b[0mnp\u001b[0m\u001b[0;34m.\u001b[0m\u001b[0mconcatenate\u001b[0m\u001b[0;34m(\u001b[0m\u001b[0;34m(\u001b[0m\u001b[0melec\u001b[0m\u001b[0;34m,\u001b[0m \u001b[0mnp\u001b[0m\u001b[0;34m.\u001b[0m\u001b[0mones\u001b[0m\u001b[0;34m(\u001b[0m\u001b[0;34m(\u001b[0m\u001b[0melec\u001b[0m\u001b[0;34m.\u001b[0m\u001b[0mshape\u001b[0m\u001b[0;34m[\u001b[0m\u001b[0;36m0\u001b[0m\u001b[0;34m]\u001b[0m\u001b[0;34m,\u001b[0m \u001b[0;36m1\u001b[0m\u001b[0;34m)\u001b[0m\u001b[0;34m)\u001b[0m\u001b[0;34m)\u001b[0m\u001b[0;34m,\u001b[0m \u001b[0maxis\u001b[0m\u001b[0;34m=\u001b[0m\u001b[0;36m1\u001b[0m\u001b[0;34m)\u001b[0m\u001b[0;34m\u001b[0m\u001b[0;34m\u001b[0m\u001b[0m\n",
      "\u001b[0;32m~/anaconda2/envs/neuroimgpipe/lib/python3.6/site-packages/numpy/lib/npyio.py\u001b[0m in \u001b[0;36mloadtxt\u001b[0;34m(fname, dtype, comments, delimiter, converters, skiprows, usecols, unpack, ndmin, encoding, max_rows)\u001b[0m\n\u001b[1;32m    960\u001b[0m             \u001b[0mfname\u001b[0m \u001b[0;34m=\u001b[0m \u001b[0mos_fspath\u001b[0m\u001b[0;34m(\u001b[0m\u001b[0mfname\u001b[0m\u001b[0;34m)\u001b[0m\u001b[0;34m\u001b[0m\u001b[0;34m\u001b[0m\u001b[0m\n\u001b[1;32m    961\u001b[0m         \u001b[0;32mif\u001b[0m \u001b[0m_is_string_like\u001b[0m\u001b[0;34m(\u001b[0m\u001b[0mfname\u001b[0m\u001b[0;34m)\u001b[0m\u001b[0;34m:\u001b[0m\u001b[0;34m\u001b[0m\u001b[0;34m\u001b[0m\u001b[0m\n\u001b[0;32m--> 962\u001b[0;31m             \u001b[0mfh\u001b[0m \u001b[0;34m=\u001b[0m \u001b[0mnp\u001b[0m\u001b[0;34m.\u001b[0m\u001b[0mlib\u001b[0m\u001b[0;34m.\u001b[0m\u001b[0m_datasource\u001b[0m\u001b[0;34m.\u001b[0m\u001b[0mopen\u001b[0m\u001b[0;34m(\u001b[0m\u001b[0mfname\u001b[0m\u001b[0;34m,\u001b[0m \u001b[0;34m'rt'\u001b[0m\u001b[0;34m,\u001b[0m \u001b[0mencoding\u001b[0m\u001b[0;34m=\u001b[0m\u001b[0mencoding\u001b[0m\u001b[0;34m)\u001b[0m\u001b[0;34m\u001b[0m\u001b[0;34m\u001b[0m\u001b[0m\n\u001b[0m\u001b[1;32m    963\u001b[0m             \u001b[0mfencoding\u001b[0m \u001b[0;34m=\u001b[0m \u001b[0mgetattr\u001b[0m\u001b[0;34m(\u001b[0m\u001b[0mfh\u001b[0m\u001b[0;34m,\u001b[0m \u001b[0;34m'encoding'\u001b[0m\u001b[0;34m,\u001b[0m \u001b[0;34m'latin1'\u001b[0m\u001b[0;34m)\u001b[0m\u001b[0;34m\u001b[0m\u001b[0;34m\u001b[0m\u001b[0m\n\u001b[1;32m    964\u001b[0m             \u001b[0mfh\u001b[0m \u001b[0;34m=\u001b[0m \u001b[0miter\u001b[0m\u001b[0;34m(\u001b[0m\u001b[0mfh\u001b[0m\u001b[0;34m)\u001b[0m\u001b[0;34m\u001b[0m\u001b[0;34m\u001b[0m\u001b[0m\n",
      "\u001b[0;32m~/anaconda2/envs/neuroimgpipe/lib/python3.6/site-packages/numpy/lib/_datasource.py\u001b[0m in \u001b[0;36mopen\u001b[0;34m(path, mode, destpath, encoding, newline)\u001b[0m\n\u001b[1;32m    264\u001b[0m \u001b[0;34m\u001b[0m\u001b[0m\n\u001b[1;32m    265\u001b[0m     \u001b[0mds\u001b[0m \u001b[0;34m=\u001b[0m \u001b[0mDataSource\u001b[0m\u001b[0;34m(\u001b[0m\u001b[0mdestpath\u001b[0m\u001b[0;34m)\u001b[0m\u001b[0;34m\u001b[0m\u001b[0;34m\u001b[0m\u001b[0m\n\u001b[0;32m--> 266\u001b[0;31m     \u001b[0;32mreturn\u001b[0m \u001b[0mds\u001b[0m\u001b[0;34m.\u001b[0m\u001b[0mopen\u001b[0m\u001b[0;34m(\u001b[0m\u001b[0mpath\u001b[0m\u001b[0;34m,\u001b[0m \u001b[0mmode\u001b[0m\u001b[0;34m,\u001b[0m \u001b[0mencoding\u001b[0m\u001b[0;34m=\u001b[0m\u001b[0mencoding\u001b[0m\u001b[0;34m,\u001b[0m \u001b[0mnewline\u001b[0m\u001b[0;34m=\u001b[0m\u001b[0mnewline\u001b[0m\u001b[0;34m)\u001b[0m\u001b[0;34m\u001b[0m\u001b[0;34m\u001b[0m\u001b[0m\n\u001b[0m\u001b[1;32m    267\u001b[0m \u001b[0;34m\u001b[0m\u001b[0m\n\u001b[1;32m    268\u001b[0m \u001b[0;34m\u001b[0m\u001b[0m\n",
      "\u001b[0;32m~/anaconda2/envs/neuroimgpipe/lib/python3.6/site-packages/numpy/lib/_datasource.py\u001b[0m in \u001b[0;36mopen\u001b[0;34m(self, path, mode, encoding, newline)\u001b[0m\n\u001b[1;32m    622\u001b[0m                                       encoding=encoding, newline=newline)\n\u001b[1;32m    623\u001b[0m         \u001b[0;32melse\u001b[0m\u001b[0;34m:\u001b[0m\u001b[0;34m\u001b[0m\u001b[0;34m\u001b[0m\u001b[0m\n\u001b[0;32m--> 624\u001b[0;31m             \u001b[0;32mraise\u001b[0m \u001b[0mIOError\u001b[0m\u001b[0;34m(\u001b[0m\u001b[0;34m\"%s not found.\"\u001b[0m \u001b[0;34m%\u001b[0m \u001b[0mpath\u001b[0m\u001b[0;34m)\u001b[0m\u001b[0;34m\u001b[0m\u001b[0;34m\u001b[0m\u001b[0m\n\u001b[0m\u001b[1;32m    625\u001b[0m \u001b[0;34m\u001b[0m\u001b[0m\n\u001b[1;32m    626\u001b[0m \u001b[0;34m\u001b[0m\u001b[0m\n",
      "\u001b[0;31mOSError\u001b[0m: /Users/adam2392/Dropbox/phd_research/data/neuroimaging_results/freesurfer_output/umf003/elecs/umf003_elecs_all_nearest_warped.txt not found."
     ]
    }
   ],
   "source": [
    "patient.warp_all(elecfile_prefix=outfile)"
   ]
  },
  {
   "cell_type": "markdown",
   "metadata": {
    "code_folding": []
   },
   "source": [
    "### Final File Structure\n",
    "\n",
    "SUBJECTS_DIR/\n",
    "    * Subj_name/\n",
    "        * CT/\t\n",
    "        * Meshes/\t\n",
    "        * acpc/\t\n",
    "        * ascii/\t\n",
    "        * cvs/\n",
    "        * dicom/\t\n",
    "        * elecs/\n",
    "            -individual_elecs/\n",
    "        * label/\t\n",
    "        * mri/\t\n",
    "        * scripts/\t\n",
    "        * surf/\t"
   ]
  },
  {
   "cell_type": "markdown",
   "metadata": {},
   "source": [
    "See plotting demo."
   ]
  }
 ],
 "metadata": {
  "anaconda-cloud": {},
  "kernelspec": {
   "display_name": "neuroimg",
   "language": "python",
   "name": "neuroimg"
  },
  "language_info": {
   "codemirror_mode": {
    "name": "ipython",
    "version": 3
   },
   "file_extension": ".py",
   "mimetype": "text/x-python",
   "name": "python",
   "nbconvert_exporter": "python",
   "pygments_lexer": "ipython3",
   "version": "3.6.7"
  }
 },
 "nbformat": 4,
 "nbformat_minor": 2
}
