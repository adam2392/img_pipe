{
 "cells": [
  {
   "cell_type": "code",
   "execution_count": 2,
   "metadata": {
    "collapsed": true
   },
   "outputs": [],
   "source": [
    "import os\n",
    "import sys; sys.path.append(\"../../../\")\n",
    "from img_pipe.img_pipe import img_pipe\n",
    "from importlib import reload\n",
    "reload(img_pipe)\n",
    "import numpy as np\n",
    "import scipy.io\n",
    "%matplotlib inline"
   ]
  },
  {
   "cell_type": "markdown",
   "metadata": {},
   "source": [
    "# Img_pipe Recon Demo\n",
    "\n",
    "This tutorial will walk through how to run a recon using the img_pipe package. This includes MRI alignment, CT registration, electrode localization, anatomical labeling, and nonlinear warping. "
   ]
  },
  {
   "cell_type": "markdown",
   "metadata": {},
   "source": [
    "### Set-up\n",
    "\n",
    "In your SUBJECTS_DIR (where you want to place your subjects imaging data), you should make a new directory (with your subject name, i.e. 'EC86'). Then, create subdirectories __*acpc/*__ and __*CT/*__. Place your niftii format T1 MRI file (name it *T1_orig.nii*) in the __*acpc/*__ folder and the CT niftii file (name it *CT.nii*) in __*CT/*__. Your directory structure should now look like this: \n",
    "\n",
    "SUBJECTS_DIR/\n",
    "    * Subj_name/\n",
    "        * acpc/\n",
    "            *T1_orig.nii\n",
    "        * CT/\n",
    "            * CT.nii"
   ]
  },
  {
   "cell_type": "markdown",
   "metadata": {},
   "source": [
    "### 1. Alignment of T1 scan to AC-PC axis\n",
    "\n",
    "*\tAlignment of the T1 scan to the anterior commissure-posterior commissure axis is performed in Freeview (Figure 3). Open Freeview and load your unaligned T1 scan in the Volumes tab. To aid in axis alignment, change the cursor style “long” in Preferences  Cursor  style “Long”. You can also change the color if you wish.\n",
    "*\tTo adjust the rotation and translation of the image, select Tools  Transform Volume. Adjust the roll (with Y (P-A)) and yaw (with Z (I-S)) as necessary to make sure the head is aligned.  Check the axial view to make sure the eyes show equally in the same slice (see Fig 3A vs. 3B, second panel for unaligned and aligned examples).  Make sure the midsagittal line is vertical in the axial view (see Fig 3A vs. 3B, first and third panels) and in the coronal view.  Choose Sample method “Cubic”.\n",
    "*\tSelect the anterior commissure and adjust the pitch of the head so that it is in line with the posterior commissure on the horizontal axis (Fig 3A-B, last panel).\n",
    "*\tFinally, move to the (0, 0, 0) RAS coordinate (not TkReg RAS, just RAS).  In the Transform Volume tool, translate the image until the cursor is at the anterior commissure.   \n",
    "*\tOnce you are satisfied that the brain is in a good orientation, click “Save Reg…” and save the transformation matrix in the acpc directory as T1_reorient.lta. Then, click “Save as…” and save the reoriented T1 file as T1.nii in the acpc directory (e.g. /usr/local/freesurfer/subjects/EC1/acpc). \n",
    "\n",
    "#### Include image here "
   ]
  },
  {
   "cell_type": "markdown",
   "metadata": {},
   "source": [
    "### 2. Create the freeCoG instance for the patient and run preparatory steps"
   ]
  },
  {
   "cell_type": "code",
   "execution_count": 17,
   "metadata": {
    "collapsed": true
   },
   "outputs": [],
   "source": [
    "patient = img_pipe.freeCoG(subj='umf003',\n",
    "                           hem='lh',\n",
    "                           subj_dir='/home/adam2392/hdd/data/neuroimaging/freesurfer_output/',\n",
    "                           fs_dir='/opt/freesurfer/')\n",
    "# you can also specify SUBJECTS_DIR and FREESURFER_HOME in your .bash_profile instead of specifying \n",
    "# in the *subj_dir* and *fs_dir* arguments."
   ]
  },
  {
   "cell_type": "markdown",
   "metadata": {},
   "source": [
    "#### 2a) **`prep_recon()`**\n",
    "**`prep_recon()`** will set up the directory structure needed before running **`get_recon()`**"
   ]
  },
  {
   "cell_type": "code",
   "execution_count": 18,
   "metadata": {
    "collapsed": false
   },
   "outputs": [
    {
     "name": "stdout",
     "output_type": "stream",
     "text": [
      "Making electrodes directory\n"
     ]
    }
   ],
   "source": [
    "patient.prep_recon()"
   ]
  },
  {
   "cell_type": "markdown",
   "metadata": {},
   "source": [
    "#### 2b) **`get_recon()`** \n",
    "**`get_recon()`** will run the Freesurfer command `recon-all`. This will take on the order of hours, depending on your machine's CPU, GPU, and whether you use parallelization."
   ]
  },
  {
   "cell_type": "code",
   "execution_count": 14,
   "metadata": {
    "collapsed": false
   },
   "outputs": [],
   "source": [
    "patient.get_recon()"
   ]
  },
  {
   "cell_type": "markdown",
   "metadata": {},
   "source": [
    "#### 2c) check pial surfaces against the MRI with **`check_pial()`**\n",
    "Now, check that the pial surfaces actually correspond to the MRI."
   ]
  },
  {
   "cell_type": "code",
   "execution_count": 13,
   "metadata": {
    "collapsed": true
   },
   "outputs": [],
   "source": [
    "#this will open a freesurfer window with the brain MRI and pial surfaces loaded\n",
    "patient.check_pial()"
   ]
  },
  {
   "cell_type": "markdown",
   "metadata": {},
   "source": [
    "#### 2d) create the meshes\n",
    "\n",
    "Create the triangle-vertex mesh in .mat format with **`convert_fsmesh2mlab()`**. This will save them out to **__Meshes/EC108_lh_pial.mat__** and **__Meshes/EC108_rh_pial.mat__**. To create subcortical meshes, run **`get_subcort()`**, subcortical meshes will be in **__Meshes/subcortical/__**."
   ]
  },
  {
   "cell_type": "code",
   "execution_count": 19,
   "metadata": {
    "collapsed": false
   },
   "outputs": [
    {
     "name": "stdout",
     "output_type": "stream",
     "text": [
      "Making Meshes Directory\n",
      "Making lh mesh\n",
      "Making rh mesh\n",
      "::: Tesselating freesurfer subcortical segmentations from aseg using aseg2srf... :::\n",
      "/home/adam2392/Documents/neuroimg_pipeline/img_pipe/img_pipe/SupplementalScripts/aseg2srf.sh\n",
      "Creating directory /home/adam2392/hdd/data/neuroimaging/freesurfer_output/umf003/Meshes/subcortical\n",
      "::: Converting all ascii segmentations to matlab tri-vert :::\n"
     ]
    }
   ],
   "source": [
    "patient.convert_fsmesh2mlab()\n",
    "patient.get_subcort()"
   ]
  },
  {
   "cell_type": "markdown",
   "metadata": {},
   "source": [
    "#### 2e) CT Registration\n",
    "\n",
    "Register the **__CT/CT.nii__** file to **__mri/orig.nii__** file; the registered CT will be saved as **__CT/rCT.nii__**."
   ]
  },
  {
   "cell_type": "code",
   "execution_count": 27,
   "metadata": {
    "collapsed": false
   },
   "outputs": [
    {
     "name": "stdout",
     "output_type": "stream",
     "text": [
      "Computing registration from /home/adam2392/hdd/data/neuroimaging/freesurfer_output/umf001/CT/CT.nii to /home/adam2392/hdd/data/neuroimaging/freesurfer_output/umf001/mri/T1.nii\n",
      "Initial guess...\n",
      "translation : [0. 0. 0.]\n",
      "rotation    : [0. 0. 0.]\n",
      "\n",
      "Optimizing using fmin_powell\n",
      "translation : [1. 1. 1.]\n",
      "rotation    : [0.01 0.01 0.01]\n",
      "\n",
      "nmi = 2.0\n",
      "\n",
      "Optimization terminated successfully.\n",
      "         Current function value: -2.000000\n",
      "         Iterations: 1\n",
      "         Function evaluations: 25\n",
      "Saving registered CT image as /home/adam2392/hdd/data/neuroimaging/freesurfer_output/umf001/CT/rCT.nii\n"
     ]
    },
    {
     "name": "stderr",
     "output_type": "stream",
     "text": [
      "/home/adam2392/.local/lib/python3.6/site-packages/nipy/io/files.py:145: FutureWarning: Default `strict` currently False; this will change to True in a future version of nipy\n",
      "  ni_img = nipy2nifti(img, data_dtype = io_dtype)\n"
     ]
    }
   ],
   "source": [
    "patient.reg_img('CT.nii','T1.nii')"
   ]
  },
  {
   "cell_type": "markdown",
   "metadata": {},
   "source": [
    "### 3. Electrode localization, anatomical labeling, and nonlinear warping"
   ]
  },
  {
   "cell_type": "markdown",
   "metadata": {},
   "source": [
    "#### 3a) Marking the electrodes on the CT\n",
    "\n",
    "Example of identification of electrode coordinates using electrode picker, opened with **`mark_electrodes()`**. \n",
    "\n",
    "<img src='files/ElectrodeMarker.png' style='width:700px;'>\n",
    "\n",
    "**(A)** Demonstrates the process of picking the coordinate for the most posterior inferior grid corner. On the left, the GUI is shown with the electrode selected. The pial surface, rCT, and skull stripped MRI are displayed. The upper left shows the electrode selected in the sagittal view. The upper right shows the coronal view. The bottom right shows an axial view. The lower left displays the intensity projection map of the CT, which is useful for visualizing the entire grid. To save the coordinate, press ‘n’ to name a new device. With the center of the electrode artifact localized by the crosshairs in the axial, sagittal, and coronal views, press ‘e’ to add a point. The coordinates are automatically saved to the ‘elecs’ folder. This file can be loaded and the saved points can be plotted on the 3D surface mesh in MATLAB. This plot can be seen in the right panel. If the coordinates appear buried in the Mesh due to post operative brain shift, additional steps can be taken to project the electrode to the surface. \n",
    "\n",
    "**(B)** Example of identification of an electrode that is part of a subtemporal strip. The strip can be seen in the rCT.nii intensity projection map in the lower right panel. The coordinate is recorded from the center of the electrode artifact, seen in sagittal, coronal, and axial views. This coordinate can then be visualized on the 3D surface mesh in MATLAB, seen in the right panel.\n",
    "\n",
    "### Note:\n",
    "You need to name the hd_grid with <name>_corners.mat, which will then be able to be interpreted by patient.interp_grid\n"
   ]
  },
  {
   "cell_type": "code",
   "execution_count": 20,
   "metadata": {
    "collapsed": false
   },
   "outputs": [
    {
     "name": "stdout",
     "output_type": "stream",
     "text": [
      "Creating directory /home/adam2392/hdd/data/neuroimaging/freesurfer_output/umf003/elecs/individual_elecs\n",
      "Launching electrode picker\n"
     ]
    }
   ],
   "source": [
    "#This will open a GUI where you can click to mark the electrodes on the registered CT \n",
    "patient.mark_electrodes()"
   ]
  },
  {
   "cell_type": "markdown",
   "metadata": {},
   "source": [
    "#### 2f) Interpolate electrode grids\n",
    "\n",
    "If you marked any grid corners, you should interpolate then project the electrodes."
   ]
  },
  {
   "cell_type": "code",
   "execution_count": 21,
   "metadata": {
    "collapsed": false
   },
   "outputs": [
    {
     "name": "stdout",
     "output_type": "stream",
     "text": [
      "Help on method interp_grid in module img_pipe.img_pipe.img_pipe:\n",
      "\n",
      "interp_grid(nrows=16, ncols=16, grid_basename='hd_grid') method of img_pipe.img_pipe.img_pipe.freeCoG instance\n",
      "    Interpolates corners for an electrode grid\n",
      "    given the four corners (in order, 1, 16, 241, 256), or for\n",
      "    32 channel grid, 1, 8, 25, 32.\n",
      "    \n",
      "    Parameters\n",
      "    ----------\n",
      "    nrows : int\n",
      "        Number of rows in the grid\n",
      "    ncols : int\n",
      "        Number of columns in the grid\n",
      "    grid_basename : str\n",
      "        The base name of the grid (e.g. 'hd_grid' if you have a corners file\n",
      "        called hd_grid_corners.mat)\n",
      "\n"
     ]
    }
   ],
   "source": [
    "help(patient.interp_grid)\n",
    "patient.interp_grid(grid_basename='g',\n",
    "                    ncols=8, nrows=6\n",
    "                   )"
   ]
  },
  {
   "cell_type": "markdown",
   "metadata": {},
   "source": [
    "#### 2g) Project electrodes that are buried under the cortical surface\n",
    "\n",
    "This can either work on interpolated grids or individual electrodes. For interpolated grids, you have the option of using the mean normal vector as the projection direction (see figure). For individual electrodes, you can specify the projection direction if you set **`use_mean_normal=False`**. You can also select whether to use the dural surface or pial surface as the surface to project to.\n",
    "\n",
    "<img src='files/ElectrodeProjection.png' style=\"width: 650px;\">\n",
    "\n",
    "**A.**  The grid’s corner electrodes are manually located. We interpolate the locations of the rest of the grid electrodes using these corner coordinates, giving us the electrode grid shown in red. The green arrows are the four normal vectors calculated from the corners, and the black arrow is the mean of those normal vectors and will act as our projection direction. \n",
    "\n",
    "**B.** Projection of the interpolated grid (red) to the convex hull of the pial surface (blue) using the mean normal vector (black arrow). The final projected electrode grid is shown in blue.\n"
   ]
  },
  {
   "cell_type": "code",
   "execution_count": 3,
   "metadata": {
    "collapsed": false
   },
   "outputs": [
    {
     "name": "stdout",
     "output_type": "stream",
     "text": [
      "Help on method project_electrodes in module img_pipe_chang.img_pipe.img_pipe:\n",
      "\n",
      "project_electrodes(elecfile_prefix='hd_grid', use_mean_normal=True, surf_type='dural', num_iter=30, dilate=0.0, grid=True, convex_hull=True) method of img_pipe_chang.img_pipe.img_pipe.freeCoG instance\n",
      "    Project electrodes to the brain's surface to correct for deformation.\n",
      "    \n",
      "    By default, projects the electrodes of a grid based on the mean normal vector of the four grid\n",
      "    corner electrodes that were manually localized from the registered CT. Can also project strips\n",
      "    and individual electrodes if grid=False (you will be prompted for a projection direction).\n",
      "    \n",
      "    Parameters\n",
      "    ----------\n",
      "    elecfile_prefix : str, optional\n",
      "        prefix of the .mat file with the electrode coordinates matrix \n",
      "    use_mean_normal : bool, optional\n",
      "        whether to use mean normal vector (mean of the 4 normal vectors from the grids \n",
      "        corner electrodes) as the projection direction\n",
      "    surf_type : {'dural','pial','OFC'}, optional\n",
      "        Which surface to project to.  In the case of the orbitofrontal cortex (OFC),\n",
      "        it often works better to create a separate ROI of those brain structures and\n",
      "        project to that, rather than to the pial or dural surface\n",
      "    num_iter : int, optional\n",
      "        Number of iterations for dural surface creation\n",
      "    dilate : float, optional\n",
      "        Amount to dilate the dural surface\n",
      "    grid : bool, optional\n",
      "        Whether the electrodes to project are from a grid that was interpolated using interp_grid()\n",
      "    convex_hull : bool, optional\n",
      "        Whether to use the convex hull of the relevant surface or not.  Often\n",
      "        this can result in a smoother looking projection rather than a \"wavy\"\n",
      "        looking grid.\n",
      "    \n",
      "    Returns\n",
      "    ---------\n",
      "    None\n",
      "\n"
     ]
    }
   ],
   "source": [
    "help(patient.project_electrodes)"
   ]
  },
  {
   "cell_type": "code",
   "execution_count": 26,
   "metadata": {},
   "outputs": [
    {
     "name": "stdout",
     "output_type": "stream",
     "text": [
      "Projection Params: \n",
      "\t Grid Name: ah.mat \n",
      "\t Use Mean Normal: True \n",
      "\t                Surface Type: dural \n",
      "\t Number of Smoothing Iterations (if using dural): 30\n"
     ]
    },
    {
     "name": "stdin",
     "output_type": "stream",
     "text": [
      "Enter a custom projection direction as a string (lh,rh,top,bottom,front,back,or custom): If none provided, will default to hemisphere: \n",
      " \n"
     ]
    },
    {
     "name": "stdout",
     "output_type": "stream",
     "text": [
      "::: Loading Mesh data :::\n",
      "/home/adam2392/hdd/data/neuroimaging/freesurfer_output/umf003/Meshes/lh_dural_trivert.mat\n",
      "::: Projecting electrodes to mesh :::\n",
      "lh\n",
      "::: Done :::\n"
     ]
    }
   ],
   "source": [
    "patient.project_electrodes(elecfile_prefix='ah', grid=False)"
   ]
  },
  {
   "cell_type": "code",
   "execution_count": 27,
   "metadata": {
    "collapsed": false
   },
   "outputs": [
    {
     "name": "stdout",
     "output_type": "stream",
     "text": [
      "Projection Params: \n",
      "\t Grid Name: g.mat \n",
      "\t Use Mean Normal: True \n",
      "\t                Surface Type: dural \n",
      "\t Number of Smoothing Iterations (if using dural): 30\n",
      "Making preproc directory\n",
      "Normal vectors: [array([-0.95056379, -0.2112423 ,  0.22760751]), array([-0.88967306, -0.36863848,  0.2694207 ]), array([-0.93150767, -0.1686248 ,  0.32227183]), array([-0.8737811 , -0.32401933,  0.3626542 ])]\n",
      "Projection direction vector:  [-0.9113814042780818, -0.268131228963987, 0.29548855921061334]\n",
      "::: Loading Mesh data :::\n",
      "/home/adam2392/hdd/data/neuroimaging/freesurfer_output/umf003/Meshes/lh_dural_trivert.mat\n",
      "::: Projecting electrodes to mesh :::\n",
      "[-0.9113814042780818, -0.268131228963987, 0.29548855921061334]\n",
      "::: Done :::\n",
      "Moving /home/adam2392/hdd/data/neuroimaging/freesurfer_output/umf003/elecs/individual_elecs/g_orig.mat to /home/adam2392/hdd/data/neuroimaging/freesurfer_output/umf003/elecs/individual_elecs/preproc\n"
     ]
    }
   ],
   "source": [
    "patient.project_electrodes(elecfile_prefix='g', grid=True)"
   ]
  },
  {
   "cell_type": "markdown",
   "metadata": {},
   "source": [
    "#### Creating the **`*_elecs_all.mat`** file\n",
    "\n",
    "Now we will create our **`'*_elecs_all.mat'`** montage file. This file is a `.mat` file with two structs: **`anatomy`**, which contains information about the montage labels, device origin, and anatomical labels; and **`elecmatrix`**, which contains the electrode coordinate matrix.\n",
    "\n",
    "**`anatomy`** is structured as a __num_electrodes x 4__ matrix. The first column is the short name abbreviation of the electrode, the second column is the long name, the third column is the electrode type (i.e. depth, strip, or grid).\n",
    "\n",
    "**`make_elecs_all()`** is an interactive function that creates the **`'*_elecs_all.mat'`** file."
   ]
  },
  {
   "cell_type": "code",
   "execution_count": 28,
   "metadata": {},
   "outputs": [],
   "source": [
    "# (short_name, long_name, elec_type, filename)\n",
    "elecs_meta_input = [\n",
    "    ('btm', 'basal temporal medial', 'strip', 'btm.mat'),\n",
    "    ('btp', 'basal temporal pole', 'strip', 'btp.mat'),\n",
    "    ('c', 'grid64', 'grid', 'c.mat'),\n",
    "]\n",
    "\n",
    "elecs_meta_input = [\n",
    "    ('bo', 'basal occipital', 'strip', 'bo.mat'),\n",
    "    ('ph', 'hippocampus', 'strip', 'ph.mat'),\n",
    "    ('ah', 'anterior hippocampus', 'strip', 'ah.mat'),\n",
    "    ('g', 'grid48', 'grid', 'g.mat'),\n",
    "]\n",
    "\n",
    "\n",
    "outfile = 'umf003_elecs_all'"
   ]
  },
  {
   "cell_type": "code",
   "execution_count": 29,
   "metadata": {
    "collapsed": false
   },
   "outputs": [],
   "source": [
    "#creates the TDT_elecs_all.mat file \n",
    "patient.make_elecs_all(elecs_meta_input, outfile)"
   ]
  },
  {
   "cell_type": "code",
   "execution_count": 30,
   "metadata": {
    "collapsed": false
   },
   "outputs": [
    {
     "name": "stdout",
     "output_type": "stream",
     "text": [
      "[[array(['bo1'], dtype='<U3') array(['basal occipital1'], dtype='<U16')\n",
      "  array(['strip'], dtype='<U5')]\n",
      " [array(['bo2'], dtype='<U3') array(['basal occipital2'], dtype='<U16')\n",
      "  array(['strip'], dtype='<U5')]\n",
      " [array(['bo3'], dtype='<U3') array(['basal occipital3'], dtype='<U16')\n",
      "  array(['strip'], dtype='<U5')]\n",
      " [array(['bo4'], dtype='<U3') array(['basal occipital4'], dtype='<U16')\n",
      "  array(['strip'], dtype='<U5')]\n",
      " [array(['ph1'], dtype='<U3') array(['hippocampus1'], dtype='<U12')\n",
      "  array(['strip'], dtype='<U5')]]\n",
      "(66, 3)\n"
     ]
    }
   ],
   "source": [
    "print(scipy.io.loadmat(os.path.join(patient.elecs_dir, f'{outfile}.mat'))['eleclabels'][0:5,:])\n",
    "print(scipy.io.loadmat(os.path.join(patient.elecs_dir, f'{outfile}.mat'))['elecmatrix'].shape)"
   ]
  },
  {
   "cell_type": "code",
   "execution_count": 31,
   "metadata": {
    "collapsed": false
   },
   "outputs": [
    {
     "name": "stdout",
     "output_type": "stream",
     "text": [
      "/home/adam2392/hdd/data/neuroimaging/freesurfer_output/\n",
      "Creating labels from the freesurfer annotation file for use in automated electrode labeling\n",
      "Loading electrode matrix\n",
      "Loading label lingual\n",
      "Loading label frontalpole\n",
      "Loading label medialorbitofrontal\n",
      "Loading label superiorfrontal\n",
      "Loading label precentral\n",
      "Loading label lateralorbitofrontal\n",
      "Loading label precuneus\n",
      "Loading label pericalcarine\n",
      "Loading label paracentral\n",
      "Loading label rostralanteriorcingulate\n",
      "Loading label caudalanteriorcingulate\n",
      "Loading label parahippocampal\n",
      "Loading label lateraloccipital\n",
      "Loading label temporalpole\n",
      "Loading label inferiorparietal\n",
      "Loading label entorhinal\n",
      "Loading label bankssts\n",
      "Loading label rostralmiddlefrontal\n",
      "Loading label middletemporal\n",
      "Loading label cuneus\n",
      "Loading label superiortemporal\n",
      "Loading label posteriorcingulate\n",
      "Loading label caudalmiddlefrontal\n",
      "Loading label isthmuscingulate\n",
      "Loading label transversetemporal\n",
      "Loading label superiorparietal\n",
      "Loading label parsorbitalis\n",
      "Loading label insula\n",
      "Loading label parsopercularis\n",
      "Loading label inferiortemporal\n",
      "Loading label parstriangularis\n",
      "Loading label supramarginal\n",
      "Loading label postcentral\n",
      "Loading label fusiform\n",
      "Finding nearest mesh vertex for each electrode\n",
      "Saving electrode labels for surface electrodes to umf003_elecs_all\n",
      "Saving electrode labels to umf003_elecs_all\n"
     ]
    },
    {
     "data": {
      "text/plain": [
       "array([['bo1', 'basal occipital1', 'strip', 'lingual'],\n",
       "       ['bo2', 'basal occipital2', 'strip', 'lateraloccipital'],\n",
       "       ['bo3', 'basal occipital3', 'strip', 'lateraloccipital'],\n",
       "       ['bo4', 'basal occipital4', 'strip', 'lateraloccipital'],\n",
       "       ['ph1', 'hippocampus1', 'strip', 'Unknown'],\n",
       "       ['ph2', 'hippocampus2', 'strip', 'middletemporal'],\n",
       "       ['ph3', 'hippocampus3', 'strip', 'middletemporal'],\n",
       "       ['ph4', 'hippocampus4', 'strip', 'middletemporal'],\n",
       "       ['ah1', 'anterior hippocampus1', 'strip', 'Unknown'],\n",
       "       ['ah2', 'anterior hippocampus2', 'strip', 'Unknown'],\n",
       "       ['ah3', 'anterior hippocampus3', 'strip', 'inferiortemporal'],\n",
       "       ['ah4', 'anterior hippocampus4', 'strip', 'middletemporal'],\n",
       "       ['ah5', 'anterior hippocampus5', 'strip', 'middletemporal'],\n",
       "       ['ah6', 'anterior hippocampus6', 'strip', 'middletemporal'],\n",
       "       ['ah7', 'anterior hippocampus7', 'strip', 'inferiortemporal'],\n",
       "       ['ah8', 'anterior hippocampus8', 'strip', 'inferiortemporal'],\n",
       "       ['ah9', 'anterior hippocampus9', 'strip', 'middletemporal'],\n",
       "       ['ah10', 'anterior hippocampus10', 'strip', 'middletemporal'],\n",
       "       ['g1', 'grid481', 'grid', 'precentral'],\n",
       "       ['g2', 'grid482', 'grid', 'postcentral'],\n",
       "       ['g3', 'grid483', 'grid', 'supramarginal'],\n",
       "       ['g4', 'grid484', 'grid', 'superiortemporal'],\n",
       "       ['g5', 'grid485', 'grid', 'superiortemporal'],\n",
       "       ['g6', 'grid486', 'grid', 'middletemporal'],\n",
       "       ['g7', 'grid487', 'grid', 'precentral'],\n",
       "       ['g8', 'grid488', 'grid', 'postcentral'],\n",
       "       ['g9', 'grid489', 'grid', 'supramarginal'],\n",
       "       ['g10', 'grid4810', 'grid', 'superiortemporal'],\n",
       "       ['g11', 'grid4811', 'grid', 'superiortemporal'],\n",
       "       ['g12', 'grid4812', 'grid', 'middletemporal'],\n",
       "       ['g13', 'grid4813', 'grid', 'precentral'],\n",
       "       ['g14', 'grid4814', 'grid', 'postcentral'],\n",
       "       ['g15', 'grid4815', 'grid', 'supramarginal'],\n",
       "       ['g16', 'grid4816', 'grid', 'supramarginal'],\n",
       "       ['g17', 'grid4817', 'grid', 'middletemporal'],\n",
       "       ['g18', 'grid4818', 'grid', 'middletemporal'],\n",
       "       ['g19', 'grid4819', 'grid', 'postcentral'],\n",
       "       ['g20', 'grid4820', 'grid', 'postcentral'],\n",
       "       ['g21', 'grid4821', 'grid', 'supramarginal'],\n",
       "       ['g22', 'grid4822', 'grid', 'supramarginal'],\n",
       "       ['g23', 'grid4823', 'grid', 'middletemporal'],\n",
       "       ['g24', 'grid4824', 'grid', 'middletemporal'],\n",
       "       ['g25', 'grid4825', 'grid', 'postcentral'],\n",
       "       ['g26', 'grid4826', 'grid', 'postcentral'],\n",
       "       ['g27', 'grid4827', 'grid', 'supramarginal'],\n",
       "       ['g28', 'grid4828', 'grid', 'supramarginal'],\n",
       "       ['g29', 'grid4829', 'grid', 'middletemporal'],\n",
       "       ['g30', 'grid4830', 'grid', 'middletemporal'],\n",
       "       ['g31', 'grid4831', 'grid', 'postcentral'],\n",
       "       ['g32', 'grid4832', 'grid', 'inferiorparietal'],\n",
       "       ['g33', 'grid4833', 'grid', 'supramarginal'],\n",
       "       ['g34', 'grid4834', 'grid', 'supramarginal'],\n",
       "       ['g35', 'grid4835', 'grid', 'inferiorparietal'],\n",
       "       ['g36', 'grid4836', 'grid', 'lateraloccipital'],\n",
       "       ['g38', 'grid4838', 'grid', 'superiorparietal'],\n",
       "       ['g39', 'grid4839', 'grid', 'inferiorparietal'],\n",
       "       ['g40', 'grid4840', 'grid', 'inferiorparietal'],\n",
       "       ['g41', 'grid4841', 'grid', 'inferiorparietal'],\n",
       "       ['g42', 'grid4842', 'grid', 'lateraloccipital'],\n",
       "       ['g44', 'grid4844', 'grid', 'superiorparietal'],\n",
       "       ['g45', 'grid4845', 'grid', 'inferiorparietal'],\n",
       "       ['g46', 'grid4846', 'grid', 'inferiorparietal'],\n",
       "       ['g47', 'grid4847', 'grid', 'inferiorparietal'],\n",
       "       ['g48', 'grid4848', 'grid', 'lateraloccipital']], dtype=object)"
      ]
     },
     "execution_count": 31,
     "metadata": {},
     "output_type": "execute_result"
    }
   ],
   "source": [
    "#labels the electrodes and saves them to the 'anatomy' struct of the *_elecs_all.mat file\n",
    "patient.label_elecs(elecfile_prefix=outfile)"
   ]
  },
  {
   "cell_type": "code",
   "execution_count": 28,
   "metadata": {
    "collapsed": false
   },
   "outputs": [
    {
     "name": "stdout",
     "output_type": "stream",
     "text": [
      "Using cvs_avg35_inMNI152 as the template for warps\n",
      "Computing surface warp\n",
      "Creating mesh /home/adam2392/hdd/data/neuroimaging/freesurfer_output/cvs_avg35_inMNI152/Meshes/rh_pial_trivert.mat\n",
      "Making Meshes Directory\n",
      "Making lh mesh\n",
      "Making rh mesh\n",
      "Finding nearest surface vertex for each electrode\n",
      "Warping each electrode separately:\n",
      "Warping ch 0\n",
      "Warping ch 1\n",
      "Warping ch 2\n",
      "Warping ch 3\n",
      "Warping ch 4\n",
      "Warping ch 5\n",
      "Warping ch 6\n",
      "Warping ch 7\n",
      "Warping ch 8\n",
      "Warping ch 9\n",
      "Warping ch 10\n",
      "Warping ch 11\n",
      "Warping ch 12\n",
      "Warping ch 13\n",
      "Warping ch 14\n",
      "Warping ch 15\n",
      "Warping ch 16\n",
      "Warping ch 17\n",
      "Warping ch 18\n",
      "Warping ch 19\n",
      "Warping ch 20\n",
      "Warping ch 21\n",
      "Warping ch 22\n",
      "Warping ch 23\n",
      "Warping ch 24\n",
      "Warping ch 25\n",
      "Warping ch 26\n",
      "Warping ch 27\n",
      "Warping ch 28\n",
      "Warping ch 29\n",
      "Warping ch 30\n",
      "Warping ch 31\n",
      "Warping ch 32\n",
      "Warping ch 33\n",
      "Warping ch 34\n",
      "Warping ch 35\n",
      "Warping ch 36\n",
      "Warping ch 37\n",
      "Warping ch 38\n",
      "Warping ch 39\n",
      "Warping ch 40\n",
      "Warping ch 41\n",
      "Warping ch 42\n",
      "Warping ch 43\n",
      "Warping ch 44\n",
      "Warping ch 45\n",
      "Warping ch 46\n",
      "Warping ch 47\n",
      "Warping ch 48\n",
      "Warping ch 49\n",
      "Warping ch 50\n",
      "Warping ch 51\n",
      "Warping ch 52\n",
      "Warping ch 53\n",
      "Warping ch 54\n",
      "Warping ch 55\n",
      "Warping ch 56\n",
      "Warping ch 57\n",
      "Warping ch 58\n",
      "Warping ch 59\n",
      "Warping ch 60\n",
      "Warping ch 61\n",
      "Warping ch 62\n",
      "Warping ch 63\n",
      "Warping ch 64\n",
      "Warping ch 65\n",
      "Warping ch 66\n",
      "Warping ch 67\n",
      "Warping ch 68\n",
      "Warping ch 69\n",
      "Warping ch 70\n",
      "Warping ch 71\n",
      "Warping ch 72\n",
      "Warping ch 73\n",
      "Warping ch 74\n",
      "Warping ch 75\n",
      "Surface warp for umf001 complete. Warped coordinates in /home/adam2392/hdd/data/neuroimaging/freesurfer_output/umf001/elecs/umf001_elecs_all_surface_warped.mat\n"
     ]
    },
    {
     "ename": "AttributeError",
     "evalue": "'NoneType' object has no attribute 'light_mode'",
     "output_type": "error",
     "traceback": [
      "\u001b[0;31m---------------------------------------------------------------------------\u001b[0m",
      "\u001b[0;31mAttributeError\u001b[0m                            Traceback (most recent call last)",
      "\u001b[0;32m<ipython-input-28-e13da809f24d>\u001b[0m in \u001b[0;36m<module>\u001b[0;34m\u001b[0m\n\u001b[0;32m----> 1\u001b[0;31m \u001b[0mpatient\u001b[0m\u001b[0;34m.\u001b[0m\u001b[0mwarp_all\u001b[0m\u001b[0;34m(\u001b[0m\u001b[0melecfile_prefix\u001b[0m\u001b[0;34m=\u001b[0m\u001b[0moutfile\u001b[0m\u001b[0;34m)\u001b[0m\u001b[0;34m\u001b[0m\u001b[0;34m\u001b[0m\u001b[0m\n\u001b[0m",
      "\u001b[0;32m~/Documents/neuroimg_pipeline/img_pipe_chang/img_pipe/img_pipe.py\u001b[0m in \u001b[0;36mwarp_all\u001b[0;34m(self, elecfile_prefix, warp_depths, warp_surface, template)\u001b[0m\n\u001b[1;32m   1245\u001b[0m                              {'elecmatrix': orig_elecs['elecmatrix'], 'anatomy': orig_elecs['anatomy']})\n\u001b[1;32m   1246\u001b[0m \u001b[0;34m\u001b[0m\u001b[0m\n\u001b[0;32m-> 1247\u001b[0;31m             \u001b[0mself\u001b[0m\u001b[0;34m.\u001b[0m\u001b[0mplot_recon_anatomy_compare_warped\u001b[0m\u001b[0;34m(\u001b[0m\u001b[0melecfile_prefix\u001b[0m\u001b[0;34m=\u001b[0m\u001b[0melecfile_prefix\u001b[0m\u001b[0;34m)\u001b[0m\u001b[0;34m\u001b[0m\u001b[0;34m\u001b[0m\u001b[0m\n\u001b[0m\u001b[1;32m   1248\u001b[0m \u001b[0;34m\u001b[0m\u001b[0m\n\u001b[1;32m   1249\u001b[0m             \u001b[0;32mif\u001b[0m \u001b[0;32mnot\u001b[0m \u001b[0mos\u001b[0m\u001b[0;34m.\u001b[0m\u001b[0mpath\u001b[0m\u001b[0;34m.\u001b[0m\u001b[0misdir\u001b[0m\u001b[0;34m(\u001b[0m\u001b[0mos\u001b[0m\u001b[0;34m.\u001b[0m\u001b[0mpath\u001b[0m\u001b[0;34m.\u001b[0m\u001b[0mjoin\u001b[0m\u001b[0;34m(\u001b[0m\u001b[0mself\u001b[0m\u001b[0;34m.\u001b[0m\u001b[0melecs_dir\u001b[0m\u001b[0;34m,\u001b[0m \u001b[0;34m'warps_preproc'\u001b[0m\u001b[0;34m)\u001b[0m\u001b[0;34m)\u001b[0m\u001b[0;34m:\u001b[0m\u001b[0;34m\u001b[0m\u001b[0;34m\u001b[0m\u001b[0m\n",
      "\u001b[0;32m~/Documents/neuroimg_pipeline/img_pipe_chang/img_pipe/img_pipe.py\u001b[0m in \u001b[0;36mplot_recon_anatomy_compare_warped\u001b[0;34m(self, template, elecfile_prefix, showfig, screenshot, opacity)\u001b[0m\n\u001b[1;32m   2276\u001b[0m \u001b[0;34m\u001b[0m\u001b[0m\n\u001b[1;32m   2277\u001b[0m         \u001b[0;31m# Plot the pial surface\u001b[0m\u001b[0;34m\u001b[0m\u001b[0;34m\u001b[0m\u001b[0;34m\u001b[0m\u001b[0m\n\u001b[0;32m-> 2278\u001b[0;31m         \u001b[0msubj_mesh\u001b[0m\u001b[0;34m,\u001b[0m \u001b[0mmlab\u001b[0m \u001b[0;34m=\u001b[0m \u001b[0mctmr_brain_plot\u001b[0m\u001b[0;34m.\u001b[0m\u001b[0mctmr_gauss_plot\u001b[0m\u001b[0;34m(\u001b[0m\u001b[0msubj_brain\u001b[0m\u001b[0;34m[\u001b[0m\u001b[0;34m'tri'\u001b[0m\u001b[0;34m]\u001b[0m\u001b[0;34m,\u001b[0m \u001b[0msubj_brain\u001b[0m\u001b[0;34m[\u001b[0m\u001b[0;34m'vert'\u001b[0m\u001b[0;34m]\u001b[0m\u001b[0;34m,\u001b[0m \u001b[0mcolor\u001b[0m\u001b[0;34m=\u001b[0m\u001b[0;34m(\u001b[0m\u001b[0;36m0.8\u001b[0m\u001b[0;34m,\u001b[0m \u001b[0;36m0.8\u001b[0m\u001b[0;34m,\u001b[0m \u001b[0;36m0.8\u001b[0m\u001b[0;34m)\u001b[0m\u001b[0;34m)\u001b[0m\u001b[0;34m\u001b[0m\u001b[0;34m\u001b[0m\u001b[0m\n\u001b[0m\u001b[1;32m   2279\u001b[0m         template_mesh, mlab = ctmr_brain_plot.ctmr_gauss_plot(template_brain['tri'], template_brain['vert'],\n\u001b[1;32m   2280\u001b[0m                                                               color=(0.8, 0.8, 0.8), new_fig=False)\n",
      "\u001b[0;32m~/Documents/neuroimg_pipeline/img_pipe_chang/img_pipe/plotting/ctmr_brain_plot.py\u001b[0m in \u001b[0;36mctmr_gauss_plot\u001b[0;34m(tri, vert, color, elecs, weights, opacity, representation, line_width, gsp, cmap, show_colorbar, new_fig, vmin, vmax, ambient, specular, specular_power, diffuse, interpolation)\u001b[0m\n\u001b[1;32m    125\u001b[0m     \u001b[0mmesh\u001b[0m\u001b[0;34m.\u001b[0m\u001b[0mactor\u001b[0m\u001b[0;34m.\u001b[0m\u001b[0mproperty\u001b[0m\u001b[0;34m.\u001b[0m\u001b[0mdiffuse\u001b[0m \u001b[0;34m=\u001b[0m \u001b[0mdiffuse\u001b[0m\u001b[0;34m\u001b[0m\u001b[0;34m\u001b[0m\u001b[0m\n\u001b[1;32m    126\u001b[0m     \u001b[0mmesh\u001b[0m\u001b[0;34m.\u001b[0m\u001b[0mactor\u001b[0m\u001b[0;34m.\u001b[0m\u001b[0mproperty\u001b[0m\u001b[0;34m.\u001b[0m\u001b[0minterpolation\u001b[0m \u001b[0;34m=\u001b[0m \u001b[0minterpolation\u001b[0m\u001b[0;34m\u001b[0m\u001b[0;34m\u001b[0m\u001b[0m\n\u001b[0;32m--> 127\u001b[0;31m     \u001b[0mmesh\u001b[0m\u001b[0;34m.\u001b[0m\u001b[0mscene\u001b[0m\u001b[0;34m.\u001b[0m\u001b[0mlight_manager\u001b[0m\u001b[0;34m.\u001b[0m\u001b[0mlight_mode\u001b[0m \u001b[0;34m=\u001b[0m \u001b[0;34m'vtk'\u001b[0m\u001b[0;34m\u001b[0m\u001b[0;34m\u001b[0m\u001b[0m\n\u001b[0m\u001b[1;32m    128\u001b[0m     \u001b[0;32mif\u001b[0m \u001b[0mopacity\u001b[0m \u001b[0;34m<\u001b[0m \u001b[0;36m1.0\u001b[0m\u001b[0;34m:\u001b[0m\u001b[0;34m\u001b[0m\u001b[0;34m\u001b[0m\u001b[0m\n\u001b[1;32m    129\u001b[0m         \u001b[0mmesh\u001b[0m\u001b[0;34m.\u001b[0m\u001b[0mscene\u001b[0m\u001b[0;34m.\u001b[0m\u001b[0mrenderer\u001b[0m\u001b[0;34m.\u001b[0m\u001b[0mset\u001b[0m\u001b[0;34m(\u001b[0m\u001b[0muse_depth_peeling\u001b[0m\u001b[0;34m=\u001b[0m\u001b[0;32mTrue\u001b[0m\u001b[0;34m)\u001b[0m \u001b[0;31m#, maximum_number_of_peels=100, occlusion_ratio=0.0\u001b[0m\u001b[0;34m\u001b[0m\u001b[0;34m\u001b[0m\u001b[0m\n",
      "\u001b[0;31mAttributeError\u001b[0m: 'NoneType' object has no attribute 'light_mode'"
     ]
    }
   ],
   "source": [
    "patient.warp_all(elecfile_prefix=outfile)"
   ]
  },
  {
   "cell_type": "markdown",
   "metadata": {
    "code_folding": []
   },
   "source": [
    "### Final File Structure\n",
    "\n",
    "SUBJECTS_DIR/\n",
    "    * Subj_name/\n",
    "        * CT/\t\n",
    "        * Meshes/\t\n",
    "        * acpc/\t\n",
    "        * ascii/\t\n",
    "        * cvs/\n",
    "        * dicom/\t\n",
    "        * elecs/\n",
    "            -individual_elecs/\n",
    "        * label/\t\n",
    "        * mri/\t\n",
    "        * scripts/\t\n",
    "        * surf/\t"
   ]
  },
  {
   "cell_type": "markdown",
   "metadata": {},
   "source": [
    "See plotting demo."
   ]
  }
 ],
 "metadata": {
  "anaconda-cloud": {},
  "kernelspec": {
   "display_name": "neuroimgpipe",
   "language": "python",
   "name": "neuroimgpipe"
  },
  "language_info": {
   "codemirror_mode": {
    "name": "ipython",
    "version": 3
   },
   "file_extension": ".py",
   "mimetype": "text/x-python",
   "name": "python",
   "nbconvert_exporter": "python",
   "pygments_lexer": "ipython3",
   "version": "3.6.8"
  }
 },
 "nbformat": 4,
 "nbformat_minor": 2
}
